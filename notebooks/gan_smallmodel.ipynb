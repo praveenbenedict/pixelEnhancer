{
 "cells": [
  {
   "cell_type": "code",
   "execution_count": 1,
   "metadata": {},
   "outputs": [],
   "source": [
    "import sys\n",
    "sys.path.append(\"..\")\n",
    "from enhancer import *\n",
    "from enhancer.options import *\n",
    "from enhancer.data import * \n",
    "from enhancer.utils import *\n",
    "%load_ext autoreload\n",
    "%autoreload 2"
   ]
  },
  {
   "cell_type": "code",
   "execution_count": 2,
   "metadata": {},
   "outputs": [
    {
     "name": "stdout",
     "output_type": "stream",
     "text": [
      "loading dataloader...\n",
      "loading models...\n",
      "generator is loaded from /notebooks/pixelEnhancer/checkpoints/imdn_rtc_20_6_gan.pt\n",
      "critic is loaded from /notebooks/pixelEnhancer/checkpoints/imdn_rtc_20_6_gan.pt\n",
      "constructing trainers .....\n",
      "loading checkpoint from  /notebooks/pixelEnhancer/checkpoints/imdn_rtc_20_6_gan.pt\n",
      "generator loaded...\n",
      "critic loaded...\n",
      "Info :check point details are \n",
      " epoch : 71 and batch : -1 \n"
     ]
    }
   ],
   "source": [
    "opt_path = \"../configs/smallmodel/gan_train.yml\"\n",
    "dataloaders = get_dataloader_from_yml(opt_path)\n",
    "pipeline =load_pipeline_from_yml(opt_path)"
   ]
  },
  {
   "cell_type": "code",
   "execution_count": null,
   "metadata": {},
   "outputs": [
    {
     "data": {
      "text/html": [
       "\n",
       "    <div>\n",
       "        <style>\n",
       "            /* Turns off some styling */\n",
       "            progress {\n",
       "                /* gets rid of default border in Firefox and Opera. */\n",
       "                border: none;\n",
       "                /* Needs to be in here for Safari polyfill so background images work as expected. */\n",
       "                background-size: auto;\n",
       "            }\n",
       "            .progress-bar-interrupted, .progress-bar-interrupted::-webkit-progress-bar {\n",
       "                background: #F44336;\n",
       "            }\n",
       "        </style>\n",
       "      <progress value='15' class='' max='999' style='width:300px; height:20px; vertical-align: middle;'></progress>\n",
       "      1.50% [15/999 1:35:15<104:08:59]\n",
       "    </div>\n",
       "    \n",
       "Epoch:1 ends,  Avg content loss :0.20043283646756951  Avg advloss:4.5552107155323025  Avg discLoss:0.16917301897536327<p>No validation enabled, so saving epoch checkpoint only<p>checkpoint saved at ../checkpoints/imdn_rtc_20_6_gan.pt<p>Epoch:2 ends,  Avg content loss :0.19204169755632228  Avg advloss:5.47069798653776  Avg discLoss:0.07322603750336301<p>No validation enabled, so saving epoch checkpoint only<p>checkpoint saved at ../checkpoints/imdn_rtc_20_6_gan.pt<p>Epoch:3 ends,  Avg content loss :0.19536269821903923  Avg advloss:5.550845287062905  Avg discLoss:0.09674982448552989<p>No validation enabled, so saving epoch checkpoint only<p>checkpoint saved at ../checkpoints/imdn_rtc_20_6_gan.pt<p>Epoch:4 ends,  Avg content loss :0.1955108645287427  Avg advloss:5.618034876476635  Avg discLoss:0.11718817974696404<p>No validation enabled, so saving epoch checkpoint only<p>checkpoint saved at ../checkpoints/imdn_rtc_20_6_gan.pt<p>Epoch:5 ends,  Avg content loss :0.19407798214392227  Avg advloss:5.326362191547047  Avg discLoss:0.09463774731468055<p>No validation enabled, so saving epoch checkpoint only<p>checkpoint saved at ../checkpoints/imdn_rtc_20_6_gan.pt<p>Epoch:6 ends,  Avg content loss :0.20235669369047338  Avg advloss:5.4641287543556905  Avg discLoss:0.07045740877501058<p>No validation enabled, so saving epoch checkpoint only<p>checkpoint saved at ../checkpoints/imdn_rtc_20_6_gan.pt<p>Epoch:7 ends,  Avg content loss :0.19297352135181428  Avg advloss:6.066241274096749  Avg discLoss:0.10489720413656456<p>No validation enabled, so saving epoch checkpoint only<p>checkpoint saved at ../checkpoints/imdn_rtc_20_6_gan.pt<p>Epoch:8 ends,  Avg content loss :0.19471077729355205  Avg advloss:5.637132486430081  Avg discLoss:0.10706420952562687<p>No validation enabled, so saving epoch checkpoint only<p>checkpoint saved at ../checkpoints/imdn_rtc_20_6_gan.pt<p>Epoch:9 ends,  Avg content loss :0.19962608109820973  Avg advloss:5.6394181695851415  Avg discLoss:0.05712085314689003<p>No validation enabled, so saving epoch checkpoint only<p>checkpoint saved at ../checkpoints/imdn_rtc_20_6_gan.pt<p>Epoch:10 ends,  Avg content loss :0.19793820462443612  Avg advloss:5.531584025106647  Avg discLoss:0.15242466914245267<p>No validation enabled, so saving epoch checkpoint only<p>checkpoint saved at ../checkpoints/imdn_rtc_20_6_gan.pt<p>Epoch:11 ends,  Avg content loss :0.19119294014844027  Avg advloss:4.926693521846424  Avg discLoss:0.06609566335524009<p>No validation enabled, so saving epoch checkpoint only<p>checkpoint saved at ../checkpoints/imdn_rtc_20_6_gan.pt<p>Epoch:12 ends,  Avg content loss :0.1879828943447633  Avg advloss:6.841173790259795  Avg discLoss:0.0384043378321704<p>No validation enabled, so saving epoch checkpoint only<p>checkpoint saved at ../checkpoints/imdn_rtc_20_6_gan.pt<p>Epoch:13 ends,  Avg content loss :0.19040432978760113  Avg advloss:6.032885617559606  Avg discLoss:0.16264563382408762<p>No validation enabled, so saving epoch checkpoint only<p>checkpoint saved at ../checkpoints/imdn_rtc_20_6_gan.pt<p>Epoch:14 ends,  Avg content loss :0.19389824271202089  Avg advloss:6.466470854932612  Avg discLoss:0.03860242878998344<p>No validation enabled, so saving epoch checkpoint only<p>checkpoint saved at ../checkpoints/imdn_rtc_20_6_gan.pt<p>Epoch:15 ends,  Avg content loss :0.19726605090227994  Avg advloss:7.474260325865312  Avg discLoss:0.027725877000524302<p>No validation enabled, so saving epoch checkpoint only<p>checkpoint saved at ../checkpoints/imdn_rtc_20_6_gan.pt<p>\n",
       "\n",
       "    <div>\n",
       "        <style>\n",
       "            /* Turns off some styling */\n",
       "            progress {\n",
       "                /* gets rid of default border in Firefox and Opera. */\n",
       "                border: none;\n",
       "                /* Needs to be in here for Safari polyfill so background images work as expected. */\n",
       "                background-size: auto;\n",
       "            }\n",
       "            .progress-bar-interrupted, .progress-bar-interrupted::-webkit-progress-bar {\n",
       "                background: #F44336;\n",
       "            }\n",
       "        </style>\n",
       "      <progress value='31' class='' max='55' style='width:300px; height:20px; vertical-align: middle;'></progress>\n",
       "      56.36% [31/55 04:02<03:08]\n",
       "    </div>\n",
       "    "
      ],
      "text/plain": [
       "<IPython.core.display.HTML object>"
      ]
     },
     "metadata": {},
     "output_type": "display_data"
    }
   ],
   "source": [
    "pipeline[\"trainer\"].train_model(1,1000,isValidate=False)"
   ]
  },
  {
   "cell_type": "code",
   "execution_count": null,
   "metadata": {},
   "outputs": [],
   "source": [
    "\n",
    "\n"
   ]
  }
 ],
 "metadata": {
  "kernelspec": {
   "display_name": "Python 3",
   "language": "python",
   "name": "python3"
  },
  "language_info": {
   "codemirror_mode": {
    "name": "ipython",
    "version": 3
   },
   "file_extension": ".py",
   "mimetype": "text/x-python",
   "name": "python",
   "nbconvert_exporter": "python",
   "pygments_lexer": "ipython3",
   "version": "3.6.8"
  }
 },
 "nbformat": 4,
 "nbformat_minor": 4
}
