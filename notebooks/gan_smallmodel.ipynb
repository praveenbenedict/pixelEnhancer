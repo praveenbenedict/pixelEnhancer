{
 "cells": [
  {
   "cell_type": "code",
   "execution_count": 6,
   "metadata": {},
   "outputs": [],
   "source": [
    "import sys\n",
    "sys.path.append(\"..\")\n",
    "from enhancer import *\n",
    "from enhancer.options import *\n",
    "from enhancer.data import * \n",
    "from enhancer.utils import *\n",
    "%load_ext autoreload\n",
    "%autoreload 2 \n"
   ]
  },
  {
   "cell_type": "code",
   "execution_count": 8,
   "metadata": {},
   "outputs": [
    {
     "name": "stdout",
     "output_type": "stream",
     "text": [
      "loading dataloader...\n",
      "loading models...\n",
      "generator is loaded from /notebooks/pixelEnhancer/checkpoints/verysmall_best_charbonnier_x4_imdn_rtc_20_6.pt\n",
      "critic is loaded from /notebooks/pixelEnhancer/checkpoints/verysmall_best_charbonnier_x4_imdn_rtc_20_6.pt\n",
      "constructing trainers .....\n",
      "loading checkpoint from  /notebooks/pixelEnhancer/checkpoints/verysmall_best_charbonnier_x4_imdn_rtc_20_6.pt\n",
      "generator loaded...\n",
      "critic loaded...\n",
      "Info :check point details are \n",
      " epoch : 7 and batch : -1 \n"
     ]
    }
   ],
   "source": [
    "opt_path = \"../configs/smallmodel/gan_train.yml\"\n",
    "dataloaders = get_dataloader_from_yml(opt_path)\n",
    "pipeline =load_pipeline_from_yml(opt_path)"
   ]
  },
  {
   "cell_type": "code",
   "execution_count": null,
   "metadata": {},
   "outputs": [],
   "source": [
    "pipeline[\"trainer\"].train_model(1,1000,isValidate=False)"
   ]
  },
  {
   "cell_type": "code",
   "execution_count": null,
   "metadata": {},
   "outputs": [],
   "source": []
  }
 ],
 "metadata": {
  "kernelspec": {
   "display_name": "Python 3",
   "language": "python",
   "name": "python3"
  },
  "language_info": {
   "codemirror_mode": {
    "name": "ipython",
    "version": 3
   },
   "file_extension": ".py",
   "mimetype": "text/x-python",
   "name": "python",
   "nbconvert_exporter": "python",
   "pygments_lexer": "ipython3",
   "version": "3.6.8"
  }
 },
 "nbformat": 4,
 "nbformat_minor": 4
}
