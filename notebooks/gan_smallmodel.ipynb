{
 "cells": [
  {
   "cell_type": "code",
   "execution_count": 1,
   "metadata": {},
   "outputs": [],
   "source": [
    "import sys\n",
    "sys.path.append(\"..\")\n",
    "from enhancer import *\n",
    "from enhancer.options import *\n",
    "from enhancer.data import * \n",
    "from enhancer.utils import *\n",
    "%load_ext autoreload\n",
    "%autoreload 2"
   ]
  },
  {
   "cell_type": "code",
   "execution_count": 2,
   "metadata": {},
   "outputs": [
    {
     "name": "stdout",
     "output_type": "stream",
     "text": [
      "loading dataloader...\n",
      "loading models...\n",
      "generator is loaded from /notebooks/pixelEnhancer/checkpoints/imdn_rtc_20_6_mse_interpolation.pt\n",
      "constructing trainers .....\n",
      "loading checkpoint from  /notebooks/pixelEnhancer/checkpoints/imdn_rtc_20_6_mse_interpolation.pt\n",
      "generator loaded...\n",
      "Info :check point details are \n",
      " epoch : 226 and batch : -1 \n"
     ]
    }
   ],
   "source": [
    "opt_path = \"../configs/smallmodel/gan_train.yml\"\n",
    "dataloaders = get_dataloader_from_yml(opt_path)\n",
    "pipeline =load_pipeline_from_yml(opt_path)"
   ]
  },
  {
   "cell_type": "code",
   "execution_count": null,
   "metadata": {},
   "outputs": [
    {
     "data": {
      "text/html": [
       "\n",
       "    <div>\n",
       "        <style>\n",
       "            /* Turns off some styling */\n",
       "            progress {\n",
       "                /* gets rid of default border in Firefox and Opera. */\n",
       "                border: none;\n",
       "                /* Needs to be in here for Safari polyfill so background images work as expected. */\n",
       "                background-size: auto;\n",
       "            }\n",
       "            .progress-bar-interrupted, .progress-bar-interrupted::-webkit-progress-bar {\n",
       "                background: #F44336;\n",
       "            }\n",
       "        </style>\n",
       "      <progress value='15' class='' max='999' style='width:300px; height:20px; vertical-align: middle;'></progress>\n",
       "      1.50% [15/999 22:18<24:23:43]\n",
       "    </div>\n",
       "    \n",
       "Epoch:1 ends,  Avg content loss :0.03432135835967281  Avg advloss:0.7036246278069236  Avg discLoss:0.7024740126999942<p>No validation enabled, so saving epoch checkpoint only<p>checkpoint saved at ../checkpoints/imdn_rtc_20_6_gan1_interpolation.pt<p>Epoch:2 ends,  Avg content loss :0.03345545894381675  Avg advloss:0.7100312698971142  Avg discLoss:0.6903003042394464<p>No validation enabled, so saving epoch checkpoint only<p>checkpoint saved at ../checkpoints/imdn_rtc_20_6_gan1_interpolation.pt<p>Epoch:3 ends,  Avg content loss :0.034836945987560534  Avg advloss:1.1095047663558613  Avg discLoss:0.512386915223165<p>No validation enabled, so saving epoch checkpoint only<p>checkpoint saved at ../checkpoints/imdn_rtc_20_6_gan1_interpolation.pt<p>Epoch:4 ends,  Avg content loss :0.036624231358820744  Avg advloss:1.1611158387227491  Avg discLoss:0.5556253544986248<p>No validation enabled, so saving epoch checkpoint only<p>checkpoint saved at ../checkpoints/imdn_rtc_20_6_gan1_interpolation.pt<p>Epoch:5 ends,  Avg content loss :0.03778418036685748  Avg advloss:1.1121156085621227  Avg discLoss:0.5332397468896075<p>No validation enabled, so saving epoch checkpoint only<p>checkpoint saved at ../checkpoints/imdn_rtc_20_6_gan1_interpolation.pt<p>Epoch:6 ends,  Avg content loss :0.038029840571636504  Avg advloss:1.2058487633412533  Avg discLoss:0.5209087288853798<p>No validation enabled, so saving epoch checkpoint only<p>checkpoint saved at ../checkpoints/imdn_rtc_20_6_gan1_interpolation.pt<p>Epoch:7 ends,  Avg content loss :0.03863621812991121  Avg advloss:1.2879941539330917  Avg discLoss:0.47176703973249956<p>No validation enabled, so saving epoch checkpoint only<p>checkpoint saved at ../checkpoints/imdn_rtc_20_6_gan1_interpolation.pt<p>Epoch:8 ends,  Avg content loss :0.03890448400581425  Avg advloss:1.1920803192664275  Avg discLoss:0.5290716557678852<p>No validation enabled, so saving epoch checkpoint only<p>checkpoint saved at ../checkpoints/imdn_rtc_20_6_gan1_interpolation.pt<p>Epoch:9 ends,  Avg content loss :0.03848198389803821  Avg advloss:1.2587247544391589  Avg discLoss:0.538988961618055<p>No validation enabled, so saving epoch checkpoint only<p>checkpoint saved at ../checkpoints/imdn_rtc_20_6_gan1_interpolation.pt<p>Epoch:10 ends,  Avg content loss :0.0395784568041563  Avg advloss:1.328334625336257  Avg discLoss:0.4697254569693045<p>No validation enabled, so saving epoch checkpoint only<p>checkpoint saved at ../checkpoints/imdn_rtc_20_6_gan1_interpolation.pt<p>Epoch:11 ends,  Avg content loss :0.039764285036786036  Avg advloss:1.192266560820016  Avg discLoss:0.5534464853561737<p>No validation enabled, so saving epoch checkpoint only<p>checkpoint saved at ../checkpoints/imdn_rtc_20_6_gan1_interpolation.pt<p>Epoch:12 ends,  Avg content loss :0.03886308717456731  Avg advloss:1.2950300113721327  Avg discLoss:0.5287432150407271<p>No validation enabled, so saving epoch checkpoint only<p>checkpoint saved at ../checkpoints/imdn_rtc_20_6_gan1_interpolation.pt<p>Epoch:13 ends,  Avg content loss :0.03895805864171548  Avg advloss:1.1537153299220584  Avg discLoss:0.5743359904058954<p>No validation enabled, so saving epoch checkpoint only<p>checkpoint saved at ../checkpoints/imdn_rtc_20_6_gan1_interpolation.pt<p>Epoch:14 ends,  Avg content loss :0.03999586134133014  Avg advloss:1.168855857713656  Avg discLoss:0.5485602231188254<p>No validation enabled, so saving epoch checkpoint only<p>checkpoint saved at ../checkpoints/imdn_rtc_20_6_gan1_interpolation.pt<p>Epoch:15 ends,  Avg content loss :0.04059966408054937  Avg advloss:1.1510593580928716  Avg discLoss:0.5456581461497328<p>No validation enabled, so saving epoch checkpoint only<p>checkpoint saved at ../checkpoints/imdn_rtc_20_6_gan1_interpolation.pt<p>\n",
       "\n",
       "    <div>\n",
       "        <style>\n",
       "            /* Turns off some styling */\n",
       "            progress {\n",
       "                /* gets rid of default border in Firefox and Opera. */\n",
       "                border: none;\n",
       "                /* Needs to be in here for Safari polyfill so background images work as expected. */\n",
       "                background-size: auto;\n",
       "            }\n",
       "            .progress-bar-interrupted, .progress-bar-interrupted::-webkit-progress-bar {\n",
       "                background: #F44336;\n",
       "            }\n",
       "        </style>\n",
       "      <progress value='56' class='' max='110' style='width:300px; height:20px; vertical-align: middle;'></progress>\n",
       "      50.91% [56/110 00:48<00:46]\n",
       "    </div>\n",
       "    "
      ],
      "text/plain": [
       "<IPython.core.display.HTML object>"
      ]
     },
     "metadata": {},
     "output_type": "display_data"
    }
   ],
   "source": [
    "pipeline[\"trainer\"].train_model(1,1000,isValidate=False)"
   ]
  },
  {
   "cell_type": "code",
   "execution_count": null,
   "metadata": {},
   "outputs": [],
   "source": [
    "\n",
    "\n"
   ]
  }
 ],
 "metadata": {
  "kernelspec": {
   "display_name": "Python 3",
   "language": "python",
   "name": "python3"
  },
  "language_info": {
   "codemirror_mode": {
    "name": "ipython",
    "version": 3
   },
   "file_extension": ".py",
   "mimetype": "text/x-python",
   "name": "python",
   "nbconvert_exporter": "python",
   "pygments_lexer": "ipython3",
   "version": "3.6.8"
  }
 },
 "nbformat": 4,
 "nbformat_minor": 4
}
