{
 "cells": [
  {
   "cell_type": "code",
   "execution_count": 14,
   "metadata": {},
   "outputs": [
    {
     "name": "stdout",
     "output_type": "stream",
     "text": [
      "The autoreload extension is already loaded. To reload it, use:\n",
      "  %reload_ext autoreload\n"
     ]
    }
   ],
   "source": [
    "import sys\n",
    "sys.path.append(\"../\")\n",
    "from enhancer import *\n",
    "from enhancer.inference import *\n",
    "from enhancer.utils import *\n",
    "from enhancer.options import *\n",
    "# device = torch.device(\"cpu\")\n",
    "\n",
    "%load_ext autoreload\n",
    "%autoreload 2"
   ]
  },
  {
   "cell_type": "code",
   "execution_count": 16,
   "metadata": {},
   "outputs": [
    {
     "name": "stdout",
     "output_type": "stream",
     "text": [
      "generator is loaded from /notebooks/pixelEnhancer/checkpoints/small_checkpoint_mse_noise.pt\n"
     ]
    }
   ],
   "source": [
    "opt_path = \"../configs/smallmodel/mse_train.yml\"\n",
    "generator= get_generator_from_yml(opt_path)"
   ]
  },
  {
   "cell_type": "code",
   "execution_count": null,
   "metadata": {},
   "outputs": [],
   "source": []
  },
  {
   "cell_type": "code",
   "execution_count": 3,
   "metadata": {},
   "outputs": [],
   "source": [
    "def preds(arr,filename=None,denormalize=False):\n",
    "    arr.clamp_(0,1)\n",
    "    a = im_convert(arr[0],denormalize=denormalize)\n",
    "    im = Image.fromarray(np.uint8(a*255))\n",
    "    if filename:\n",
    "        plt.imsave(filename+'.png', a)\n",
    "    return im\n"
   ]
  },
  {
   "cell_type": "code",
   "execution_count": 4,
   "metadata": {},
   "outputs": [],
   "source": [
    "def predict_without_patch(filename,scale=4,resize=True):\n",
    "    ex = Image.open(filename).convert(\"RGB\")\n",
    "    ex_img = ex.copy()\n",
    "    if resize:\n",
    "        ex= ex.resize((ex.size[0]//scale,ex.size[1]//scale))\n",
    "        ex_img = ex.copy()\n",
    "        ex = np.array(ex).transpose(2,0,1)/255.\n",
    "    ex = torch.from_numpy(ex).unsqueeze(0).float().to(device)\n",
    "    with torch.no_grad():\n",
    "        result = generator(ex) \n",
    "    img = preds(result)\n",
    "    return img,ex_img"
   ]
  },
  {
   "cell_type": "code",
   "execution_count": 5,
   "metadata": {},
   "outputs": [],
   "source": [
    "def start(img,it,generator=generator):\n",
    "    try:\n",
    "        img_splitter = ImageSplitter(seg_size=200, scale_factor=4, boarder_pad_size=3)\n",
    "        img_patches = img_splitter.split_img_tensor(img, scale_method=None, img_pad=0)\n",
    "        out=[]\n",
    "        with torch.no_grad():\n",
    "          generator.eval()\n",
    "          for j,i in enumerate(tqdm.tqdm(img_patches)):\n",
    "            # print(j)\n",
    "            with torch.no_grad():\n",
    "                out.append(generator(i.to(device)))\n",
    "        img_upscale = img_splitter.merge_img_tensor(out)\n",
    "        a=preds(img_upscale,filename=\"result\"+str(it))\n",
    "        return a\n",
    "    except Exception as e:\n",
    "        print(str(e),it)"
   ]
  },
  {
   "cell_type": "code",
   "execution_count": 6,
   "metadata": {},
   "outputs": [],
   "source": [
    "import requests\n",
    "from io import  BytesIO\n",
    "response = requests.get(\"https://images.unsplash.com/photo-1594230612513-24c4ca53e781?ixlib=rb-1.2.1&auto=format&fit=crop&w=1050&q=80\")\n",
    "img = Image.open(BytesIO(response.content))"
   ]
  },
  {
   "cell_type": "code",
   "execution_count": 7,
   "metadata": {},
   "outputs": [],
   "source": [
    "from PIL import Image\n",
    "import requests\n",
    "from io import BytesIO\n",
    "files =[\"https://images.unsplash.com/photo-1594230612513-24c4ca53e781?ixlib=rb-1.2.1&auto=format&fit=crop&w=1050&q=80\",\n",
    "        \"https://images.unsplash.com/photo-1594333086391-a10c587762e8?ixlib=rb-1.2.1&auto=format&fit=crop&w=623&q=80\",\n",
    "        \"https://images.unsplash.com/photo-1594312244418-5c6a26d3d899?ixlib=rb-1.2.1&auto=format&fit=crop&w=634&q=80\",\n",
    "        \"https://images.unsplash.com/photo-1593703869101-b56c87d6711c?ixlib=rb-1.2.1&auto=format&fit=crop&w=564&q=80\",\n",
    "        \"https://images.unsplash.com/photo-1594399981502-94a5079e2142?ixlib=rb-1.2.1&auto=format&fit=crop&w=645&q=80\",\n",
    "\"https://images.unsplash.com/photo-1594296281709-7a73c2076ca8?ixlib=rb-1.2.1&auto=format&fit=crop&w=634&q=80\",\n",
    "\"https://images.unsplash.com/photo-1593625240190-ce1c459f0d82?ixlib=rb-1.2.1&auto=format&fit=crop&w=600&q=60\",\n",
    "\"https://images.unsplash.com/photo-1594303373078-0abd6dbd283f?ixlib=rb-1.2.1&auto=format&fit=crop&w=600&q=60\",\n",
    "\"https://images.unsplash.com/photo-1594321120041-00d204971461?ixlib=rb-1.2.1&auto=format&fit=crop&w=600&q=60\",\n",
    "\"https://images.unsplash.com/photo-1594151356294-406cbc129494?ixlib=rb-1.2.1&auto=format&fit=crop&w=600&q=60\",\n",
    "\"https://images.unsplash.com/photo-1593980280424-102c6245deae?ixlib=rb-1.2.1&auto=format&fit=crop&w=600&q=60\",\n",
    "\"https://images.unsplash.com/photo-1594105893870-285201b9f5ae?ixlib=rb-1.2.1&auto=format&fit=crop&w=600&q=60\",\n",
    "\"https://images.unsplash.com/photo-1594134258307-1814e25387ce?ixlib=rb-1.2.1&auto=format&fit=crop&w=600&q=60\",\n",
    "\"https://images.unsplash.com/photo-1594201658541-52380e1ca6df?ixlib=rb-1.2.1&auto=format&fit=crop&w=600&q=60\",\n",
    "\"https://images.unsplash.com/photo-1594176778260-461a4a3ae9cb?ixlib=rb-1.2.1&auto=format&fit=crop&w=600&q=60\",\n",
    "\"https://images.unsplash.com/photo-1594008231016-ca4f3d382b21?ixlib=rb-1.2.1&auto=format&fit=crop&w=600&q=60\",\n",
    "\"https://images.unsplash.com/photo-1593703869101-b56c87d6711c?ixlib=rb-1.2.1&auto=format&fit=crop&w=564&q=80\",\n",
    "\"https://images.unsplash.com/photo-1593987011155-542d44e8660e?ixlib=rb-1.2.1&auto=format&fit=crop&w=600&q=60\",\n",
    "\"https://images.unsplash.com/photo-1594140700520-8afea3283e2c?ixlib=rb-1.2.1&auto=format&fit=crop&w=600&q=60\",\n",
    "\"https://images.unsplash.com/photo-1594127141105-37bdc7ef4d3e?ixlib=rb-1.2.1&auto=format&fit=crop&w=600&q=60\",\n",
    "\"https://images.unsplash.com/photo-1593853761096-d0423b545cf9?ixlib=rb-1.2.1&auto=format&fit=crop&w=600&q=60\",\n",
    "\"https://images.unsplash.com/photo-1594112616811-174fbd2a6615?ixlib=rb-1.2.1&auto=format&fit=crop&w=600&q=60\",\n",
    "\"https://images.unsplash.com/photo-1593987646219-3d95fc90539d?ixlib=rb-1.2.1&auto=format&fit=crop&w=600&q=60\",\n",
    "\"https://images.unsplash.com/photo-1593930956511-139219dd9a90?ixlib=rb-1.2.1&auto=format&fit=crop&w=600&q=60\",\n",
    "\"https://images.unsplash.com/photo-1593845408129-dadab978afe9?ixlib=rb-1.2.1&auto=format&fit=crop&w=600&q=60\",\n",
    "\"https://images.unsplash.com/photo-1593853963555-013dbf33c060?ixlib=rb-1.2.1&auto=format&fit=crop&w=600&q=60\",\n",
    "\"https://images.unsplash.com/photo-1593884934858-7989100a0658?ixlib=rb-1.2.1&auto=format&fit=crop&w=600&q=60\",\n",
    "\"https://images.unsplash.com/photo-1593673711888-c1228d4f8a46?ixlib=rb-1.2.1&auto=format&fit=crop&w=600&q=60\",\n",
    "\"https://images.unsplash.com/photo-1593489463804-6bf54c98ac19?ixlib=rb-1.2.1&auto=format&fit=crop&w=600&q=60\",\n",
    "\"https://images.unsplash.com/photo-1591094509198-eca253fc69de?ixlib=rb-1.2.1&auto=format&fit=crop&w=600&q=60\",\n",
    "\"https://images.unsplash.com/photo-1593745564925-21d727c7cbb0?ixlib=rb-1.2.1&auto=format&fit=crop&w=600&q=60\",\n",
    "\"https://images.unsplash.com/photo-1593777002932-6bb4beba64a4?ixlib=rb-1.2.1&auto=format&fit=crop&w=600&q=60\"\n",
    "        ]\n",
    "imgs_array =[]\n",
    "for d,i in enumerate(files):\n",
    "  response = requests.get(i)\n",
    "  img = Image.open(BytesIO(response.content))\n",
    "  # img.save(\"/content/drive/My Drive/images/\"+str(d)+\".jpg\")\n",
    "  imgs_array.append(img)"
   ]
  },
  {
   "cell_type": "code",
   "execution_count": 76,
   "metadata": {},
   "outputs": [
    {
     "data": {
      "text/plain": [
       "<All keys matched successfully>"
      ]
     },
     "execution_count": 76,
     "metadata": {},
     "output_type": "execute_result"
    }
   ],
   "source": [
    "generator.to(device).load_state_dict(torch.load(\"../checkpoints/small_checkpoint_mse_noise.pt\",map_location=device)[\"generator_state_dict\"],)\n"
   ]
  },
  {
   "cell_type": "code",
   "execution_count": 46,
   "metadata": {},
   "outputs": [
    {
     "name": "stderr",
     "output_type": "stream",
     "text": [
      "100%|██████████| 2/2 [00:00<00:00, 22.90it/s]\n"
     ]
    }
   ],
   "source": [
    "# imgs =[Image.open(\"sample.jpg\").convert(\"RGB\")]\n",
    "imgs = [\n",
    "       Image.open(\"WIN_20201204_19_46_22_Pro.jpg\").convert(\"RGB\").resize((640//4,480//4)),\n",
    "       Image.open(\"WIN_20201204_19_46_24_Pro.jpg\").convert(\"RGB\").resize((640//4,480//4))]\n",
    "# imgs = [imgs_array[2]]\n",
    "# imgs = [ img ]\n",
    "imgs = [Image.open(\"index.jpeg\").convert(\"RGB\").resize((1280//4,720//4))]\n",
    "import tqdm\n",
    "res =[]\n",
    "for it,img in enumerate(imgs):\n",
    "  a=start(img,it,generator=generator)\n",
    "  res.append(a)\n",
    "  img.resize((img.size[0]*4,img.size[1]*4),resample=Image.BICUBIC).save(f\"{it}-bicubic.png\")"
   ]
  },
  {
   "cell_type": "code",
   "execution_count": null,
   "metadata": {},
   "outputs": [],
   "source": []
  },
  {
   "cell_type": "code",
   "execution_count": null,
   "metadata": {},
   "outputs": [],
   "source": []
  },
  {
   "cell_type": "code",
   "execution_count": null,
   "metadata": {},
   "outputs": [],
   "source": []
  },
  {
   "cell_type": "code",
   "execution_count": null,
   "metadata": {},
   "outputs": [],
   "source": []
  },
  {
   "cell_type": "code",
   "execution_count": null,
   "metadata": {},
   "outputs": [],
   "source": []
  },
  {
   "cell_type": "code",
   "execution_count": null,
   "metadata": {},
   "outputs": [],
   "source": []
  },
  {
   "cell_type": "code",
   "execution_count": null,
   "metadata": {},
   "outputs": [],
   "source": []
  },
  {
   "cell_type": "code",
   "execution_count": null,
   "metadata": {},
   "outputs": [],
   "source": []
  }
 ],
 "metadata": {
  "kernelspec": {
   "display_name": "Python 3",
   "language": "python",
   "name": "python3"
  },
  "language_info": {
   "codemirror_mode": {
    "name": "ipython",
    "version": 3
   },
   "file_extension": ".py",
   "mimetype": "text/x-python",
   "name": "python",
   "nbconvert_exporter": "python",
   "pygments_lexer": "ipython3",
   "version": "3.6.8"
  }
 },
 "nbformat": 4,
 "nbformat_minor": 4
}
