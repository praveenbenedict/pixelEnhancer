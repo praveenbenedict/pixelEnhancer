{
 "cells": [
  {
   "cell_type": "code",
   "execution_count": 1,
   "metadata": {},
   "outputs": [],
   "source": [
    "import sys\n",
    "sys.path.append(\"../\")\n",
    "%load_ext autoreload\n",
    "%autoreload 2"
   ]
  },
  {
   "cell_type": "code",
   "execution_count": 2,
   "metadata": {},
   "outputs": [],
   "source": [
    "from enhancer.networks.esrgan_blocks import *"
   ]
  },
  {
   "cell_type": "code",
   "execution_count": 3,
   "metadata": {},
   "outputs": [],
   "source": [
    "from enhancer.data.data_utils import *"
   ]
  },
  {
   "cell_type": "code",
   "execution_count": 13,
   "metadata": {},
   "outputs": [],
   "source": [
    "from enhancer.networks.imdn_blocks import PixelShuffle_ICNR\n",
    "from enhancer import *"
   ]
  },
  {
   "cell_type": "code",
   "execution_count": 24,
   "metadata": {},
   "outputs": [
    {
     "data": {
      "text/plain": [
       "torch.Size([1, 3, 12, 28])"
      ]
     },
     "execution_count": 24,
     "metadata": {},
     "output_type": "execute_result"
    }
   ],
   "source": [
    "PixelShuffle_ICNR(32,3,scale=4,blur=True)(torch.randn(1,32,3,7)).shape"
   ]
  },
  {
   "cell_type": "code",
   "execution_count": 4,
   "metadata": {},
   "outputs": [],
   "source": [
    "from enhancer import *\n",
    "from enhancer.utils import *\n",
    "from torchvision.transforms.functional import to_tensor\n",
    "import copy\n",
    "class ImageSplitter:\n",
    "    # key points:\n",
    "    # Boarder padding and over-lapping img splitting to avoid the instability of edge value\n",
    "    # Thanks Waifu2x's autorh nagadomi for suggestions (https://github.com/nagadomi/waifu2x/issues/238)\n",
    "\n",
    "    def __init__(self, seg_size=48, scale_factor=2, boarder_pad_size=3):\n",
    "        self.seg_size = seg_size\n",
    "        self.scale_factor = scale_factor\n",
    "        self.pad_size = boarder_pad_size\n",
    "        self.height = 0\n",
    "        self.width = 0\n",
    "        self.upsampler = nn.Upsample(scale_factor=scale_factor, mode=\"bilinear\")\n",
    "\n",
    "    def split_img_tensor(self, pil_img, scale_method=Image.BILINEAR, img_pad=0):\n",
    "        # resize image and convert them into tensor\n",
    "        img_tensor = to_tensor(pil_img).unsqueeze(0)\n",
    "        img_tensor = nn.ReplicationPad2d(self.pad_size)(img_tensor)\n",
    "        batch, channel, height, width = img_tensor.size()\n",
    "        self.height = height\n",
    "        self.width = width\n",
    "\n",
    "        if scale_method is not None:\n",
    "            img_up = pil_img.resize(\n",
    "                (2 * pil_img.size[0], 2 * pil_img.size[1]), scale_method\n",
    "            )\n",
    "            img_up = to_tensor(img_up).unsqueeze(0)\n",
    "            img_up = nn.ReplicationPad2d(self.pad_size * self.scale_factor)(img_up)\n",
    "\n",
    "        patch_box = []\n",
    "        # avoid the residual part is smaller than the padded size\n",
    "        if (\n",
    "            height % self.seg_size < self.pad_size\n",
    "            or width % self.seg_size < self.pad_size\n",
    "        ):\n",
    "            self.seg_size += self.scale_factor * self.pad_size\n",
    "\n",
    "        # split image into over-lapping pieces\n",
    "        for i in range(self.pad_size, height, self.seg_size):\n",
    "            for j in range(self.pad_size, width, self.seg_size):\n",
    "                part = img_tensor[\n",
    "                    :,\n",
    "                    :,\n",
    "                    (i - self.pad_size) : min(\n",
    "                        i + self.pad_size + self.seg_size, height\n",
    "                    ),\n",
    "                    (j - self.pad_size) : min(j + self.pad_size + self.seg_size, width),\n",
    "                ]\n",
    "                if img_pad > 0:\n",
    "                    part = nn.ZeroPad2d(img_pad)(part)\n",
    "                if scale_method is not None:\n",
    "                    # part_up = self.upsampler(part)\n",
    "                    part_up = img_up[\n",
    "                        :,\n",
    "                        :,\n",
    "                        self.scale_factor\n",
    "                        * (i - self.pad_size) : min(\n",
    "                            i + self.pad_size + self.seg_size, height\n",
    "                        )\n",
    "                        * self.scale_factor,\n",
    "                        self.scale_factor\n",
    "                        * (j - self.pad_size) : min(\n",
    "                            j + self.pad_size + self.seg_size, width\n",
    "                        )\n",
    "                        * self.scale_factor,\n",
    "                    ]\n",
    "\n",
    "                    patch_box.append((part, part_up))\n",
    "                else:\n",
    "                    patch_box.append(part)\n",
    "        return patch_box\n",
    "\n",
    "    def merge_img_tensor(self, list_img_tensor):\n",
    "        out = torch.zeros(\n",
    "            (1, 3, self.height * self.scale_factor, self.width * self.scale_factor)\n",
    "        )\n",
    "        img_tensors = copy.copy(list_img_tensor)\n",
    "        if self.scale_factor%2 !=0:\n",
    "            rem = self.pad_size * 3\n",
    "        else:\n",
    "            rem = self.pad_size * 2\n",
    "            \n",
    "        pad_size = self.scale_factor * self.pad_size\n",
    "        seg_size = self.scale_factor * self.seg_size\n",
    "        height = self.scale_factor * self.height\n",
    "        width = self.scale_factor * self.width\n",
    "        for i in range(pad_size, height, seg_size):\n",
    "            for j in range(pad_size, width, seg_size):\n",
    "                part = img_tensors.pop(0)\n",
    "                part = part[:, :, rem:-rem, rem:-rem]\n",
    "                # might have error\n",
    "                if len(part.size()) > 3:\n",
    "                    _, _, p_h, p_w = part.size()\n",
    "                    out[:, :, i : i + p_h, j : j + p_w] = part\n",
    "                # out[:,:,\n",
    "                # self.scale_factor*i:self.scale_factor*i+p_h,\n",
    "                # self.scale_factor*j:self.scale_factor*j+p_w] = part\n",
    "        out = out[:, :, rem:-rem, rem:-rem]\n",
    "        return out\n"
   ]
  },
  {
   "cell_type": "code",
   "execution_count": null,
   "metadata": {},
   "outputs": [],
   "source": []
  },
  {
   "cell_type": "code",
   "execution_count": null,
   "metadata": {},
   "outputs": [],
   "source": []
  },
  {
   "cell_type": "code",
   "execution_count": 3,
   "metadata": {},
   "outputs": [
    {
     "ename": "NameError",
     "evalue": "name 'Image' is not defined",
     "output_type": "error",
     "traceback": [
      "\u001b[0;31m---------------------------------------------------------------------------\u001b[0m",
      "\u001b[0;31mNameError\u001b[0m                                 Traceback (most recent call last)",
      "\u001b[0;32m<ipython-input-3-27035592eff8>\u001b[0m in \u001b[0;36m<module>\u001b[0;34m\u001b[0m\n\u001b[1;32m      2\u001b[0m \u001b[0;32mfrom\u001b[0m \u001b[0mio\u001b[0m \u001b[0;32mimport\u001b[0m  \u001b[0mBytesIO\u001b[0m\u001b[0;34m\u001b[0m\u001b[0;34m\u001b[0m\u001b[0m\n\u001b[1;32m      3\u001b[0m \u001b[0mresponse\u001b[0m \u001b[0;34m=\u001b[0m \u001b[0mrequests\u001b[0m\u001b[0;34m.\u001b[0m\u001b[0mget\u001b[0m\u001b[0;34m(\u001b[0m\u001b[0;34m\"https://images.unsplash.com/photo-1594230612513-24c4ca53e781?ixlib=rb-1.2.1&auto=format&fit=crop&w=1050&q=80\"\u001b[0m\u001b[0;34m)\u001b[0m\u001b[0;34m\u001b[0m\u001b[0;34m\u001b[0m\u001b[0m\n\u001b[0;32m----> 4\u001b[0;31m \u001b[0mimg\u001b[0m \u001b[0;34m=\u001b[0m \u001b[0mImage\u001b[0m\u001b[0;34m.\u001b[0m\u001b[0mopen\u001b[0m\u001b[0;34m(\u001b[0m\u001b[0mBytesIO\u001b[0m\u001b[0;34m(\u001b[0m\u001b[0mresponse\u001b[0m\u001b[0;34m.\u001b[0m\u001b[0mcontent\u001b[0m\u001b[0;34m)\u001b[0m\u001b[0;34m)\u001b[0m\u001b[0;34m\u001b[0m\u001b[0;34m\u001b[0m\u001b[0m\n\u001b[0m",
      "\u001b[0;31mNameError\u001b[0m: name 'Image' is not defined"
     ]
    }
   ],
   "source": [
    "\n",
    "import requests\n",
    "from io import  BytesIO\n",
    "response = requests.get(\"https://images.unsplash.com/photo-1594230612513-24c4ca53e781?ixlib=rb-1.2.1&auto=format&fit=crop&w=1050&q=80\")\n",
    "img = Image.open(BytesIO(response.content))"
   ]
  },
  {
   "cell_type": "code",
   "execution_count": 119,
   "metadata": {},
   "outputs": [],
   "source": [
    "img_splitter = ImageSplitter(seg_size=150, scale_factor=6, boarder_pad_size=1)"
   ]
  },
  {
   "cell_type": "code",
   "execution_count": 129,
   "metadata": {},
   "outputs": [],
   "source": [
    "img_patches = img_splitter.split_img_tensor(img, scale_method=None, img_pad=0)"
   ]
  },
  {
   "cell_type": "code",
   "execution_count": 151,
   "metadata": {},
   "outputs": [],
   "source": [
    "\n",
    "def crop_forward(x, model, shave=32):\n",
    "    b, c, h, w = x.size()\n",
    "    h_half, w_half = h // 2, w // 2\n",
    "\n",
    "    h_size, w_size = h_half + shave - (h_half + shave) % 4, w_half + shave - (w_half + shave) % 4\n",
    "\n",
    "    inputlist = [\n",
    "        x[:, :, 0:h_size, 0:w_size],\n",
    "        x[:, :, 0:h_size, (w - w_size):w],\n",
    "        x[:, :, (h - h_size):h, 0:w_size],\n",
    "        x[:, :, (h - h_size):h, (w - w_size):w]]\n",
    "\n",
    "    outputlist = []\n",
    "    for i in inputlist:\n",
    "        print(i.size())\n",
    "    with torch.no_grad():\n",
    "        input_batch = torch.cat(inputlist, dim=0)\n",
    "        output_batch = model(input_batch)\n",
    "#         print(output_batch.size())\n",
    "        outputlist.extend(output_batch.chunk(4, dim=0))\n",
    "        output = torch.zeros((b,c,h*4,w*4))\n",
    "        output[:, :, 0:h_half, 0:w_half] \\\n",
    "            = outputlist[0][:, :, 0:h_half, 0:w_half]\n",
    "        output[:, :, 0:h_half, w_half:w] \\\n",
    "            = outputlist[1][:, :, 0:h_half, (w_size - w + w_half):w_size]\n",
    "        output[:, :, h_half:h, 0:w_half] \\\n",
    "            = outputlist[2][:, :, (h_size - h + h_half):h_size, 0:w_half]\n",
    "        output[:, :, h_half:h, w_half:w] \\\n",
    "            = outputlist[3][:, :, (h_size - h + h_half):h_size, (w_size - w + w_half):w_size]\n",
    "\n",
    "    return output"
   ]
  },
  {
   "cell_type": "code",
   "execution_count": 125,
   "metadata": {},
   "outputs": [],
   "source": [
    "# import tqdm\n",
    "# out=[]\n",
    "# for j,i in enumerate(tqdm.tqdm(img_patches)):\n",
    "#             # print(j)\n",
    "#     with torch.no_grad():\n",
    "#         out.append(Interpolate(factor=6)(i.to(device)))"
   ]
  },
  {
   "cell_type": "code",
   "execution_count": 130,
   "metadata": {},
   "outputs": [],
   "source": [
    "# img_upscale = img_splitter.merge_img_tensor(out)"
   ]
  },
  {
   "cell_type": "code",
   "execution_count": 149,
   "metadata": {},
   "outputs": [],
   "source": [
    "ex = np.array(img).transpose(2,0,1)/255.\n",
    "ex = torch.from_numpy(ex).unsqueeze(0).float().to(device)"
   ]
  },
  {
   "cell_type": "code",
   "execution_count": null,
   "metadata": {},
   "outputs": [],
   "source": []
  },
  {
   "cell_type": "code",
   "execution_count": 154,
   "metadata": {},
   "outputs": [
    {
     "name": "stdout",
     "output_type": "stream",
     "text": [
      "torch.Size([1, 3, 380, 556])\n",
      "torch.Size([1, 3, 380, 556])\n",
      "torch.Size([1, 3, 380, 556])\n",
      "torch.Size([1, 3, 380, 556])\n"
     ]
    }
   ],
   "source": [
    "img_upscale = crop_forward(ex,Interpolate(factor=4))"
   ]
  },
  {
   "cell_type": "code",
   "execution_count": 113,
   "metadata": {},
   "outputs": [
    {
     "data": {
      "text/plain": [
       "torch.Size([1, 3, 4212, 6312])"
      ]
     },
     "execution_count": 113,
     "metadata": {},
     "output_type": "execute_result"
    }
   ],
   "source": [
    "img_upscale.size()"
   ]
  },
  {
   "cell_type": "code",
   "execution_count": 155,
   "metadata": {},
   "outputs": [
    {
     "name": "stderr",
     "output_type": "stream",
     "text": [
      "Clipping input data to the valid range for imshow with RGB data ([0..1] for floats or [0..255] for integers).\n"
     ]
    },
    {
     "data": {
      "text/plain": [
       "<matplotlib.image.AxesImage at 0x7f5300fd56a0>"
      ]
     },
     "execution_count": 155,
     "metadata": {},
     "output_type": "execute_result"
    },
    {
     "data": {
      "image/png": "[encoded data removed]",
      "text/plain": [
       "<Figure size 432x288 with 1 Axes>"
      ]
     },
     "metadata": {
      "needs_background": "light"
     },
     "output_type": "display_data"
    }
   ],
   "source": [
    "plt.imshow(im_convert(img_upscale,denormalize=False))"
   ]
  },
  {
   "cell_type": "code",
   "execution_count": 1,
   "metadata": {},
   "outputs": [],
   "source": [
    "import sys\n",
    "sys.path.append(\"../\")\n",
    "%load_ext autoreload\n",
    "%autoreload 2"
   ]
  },
  {
   "cell_type": "code",
   "execution_count": 2,
   "metadata": {},
   "outputs": [],
   "source": [
    "import enhancer.networks.imdn_blocks as B\n",
    "import torch.nn as nn\n",
    "from enhancer import *\n",
    "class IMDN_SR(nn.Module):\n",
    "    def __init__(self, in_nc=3, nf=64, num_modules=8, out_nc=3, upscale=4):\n",
    "        super(IMDN_SR, self).__init__()\n",
    "\n",
    "        fea_conv = [B.conv_layer(in_nc, nf, kernel_size=3)]\n",
    "        rb_blocks = [B.IMDModule(in_channels=nf) for _ in range(num_modules)]\n",
    "        LR_conv = B.conv_layer(nf, nf, kernel_size=3)\n",
    "\n",
    "        upsample_block = B.pixelshuffle_block\n",
    "        upsampler = upsample_block(nf, out_nc, upscale_factor=upscale)\n",
    "        self.model = B.sequential(*fea_conv, B.ShortcutBlock(B.sequential(*rb_blocks, LR_conv)),\n",
    "                                  *upsampler)\n",
    "\n",
    "    def forward(self, input):\n",
    "        output = self.model(input)\n",
    "        return output\n",
    "generator = IMDN_SR(upscale=4).to(device)"
   ]
  },
  {
   "cell_type": "code",
   "execution_count": 6,
   "metadata": {},
   "outputs": [],
   "source": [
    "# generator(torch.randn(1,3,132,132).to(device)).shape"
   ]
  },
  {
   "cell_type": "code",
   "execution_count": 5,
   "metadata": {},
   "outputs": [
    {
     "name": "stdout",
     "output_type": "stream",
     "text": [
      "The autoreload extension is already loaded. To reload it, use:\n",
      "  %reload_ext autoreload\n"
     ]
    }
   ],
   "source": [
    "import sys\n",
    "sys.path.append(\"../\")\n",
    "%load_ext autoreload\n",
    "%autoreload 2\n",
    "from enhancer.options import *\n",
    "opt_path = \"../configs/smallmodel/mse_train.yml\"\n"
   ]
  },
  {
   "cell_type": "code",
   "execution_count": 6,
   "metadata": {},
   "outputs": [],
   "source": [
    "dataloader = get_dataloader_from_yml(opt_path)"
   ]
  },
  {
   "cell_type": "code",
   "execution_count": 22,
   "metadata": {},
   "outputs": [],
   "source": [
    "# for i in dataloader[\"train_dataloader\"]:\n",
    "#     print(i[\"lr\"].shape)"
   ]
  },
  {
   "cell_type": "code",
   "execution_count": null,
   "metadata": {},
   "outputs": [],
   "source": [
    "getsample(dataloader[\"train_dataloader\"])[\"lr\"].size()"
   ]
  },
  {
   "cell_type": "code",
   "execution_count": null,
   "metadata": {},
   "outputs": [],
   "source": []
  },
  {
   "cell_type": "code",
   "execution_count": 16,
   "metadata": {},
   "outputs": [],
   "source": [
    "trainer = get_trainer_from_yml(opt_path,generator,dataloader[\"train_dataloader\"])"
   ]
  },
  {
   "cell_type": "code",
   "execution_count": 18,
   "metadata": {},
   "outputs": [],
   "source": [
    "\n",
    "def adjust_learning_rate(optimizer, epoch, step_size, lr_init, gamma):\n",
    "    factor = epoch // step_size\n",
    "    lr = lr_init * (gamma ** factor)\n",
    "    for param_group in optimizer.param_groups:\n",
    "        param_group['lr'] = lr"
   ]
  },
  {
   "cell_type": "code",
   "execution_count": null,
   "metadata": {},
   "outputs": [],
   "source": [
    "trainer.train_model(1,1000)"
   ]
  },
  {
   "cell_type": "code",
   "execution_count": 2,
   "metadata": {},
   "outputs": [
    {
     "name": "stdout",
     "output_type": "stream",
     "text": [
      "The autoreload extension is already loaded. To reload it, use:\n",
      "  %reload_ext autoreload\n"
     ]
    }
   ],
   "source": [
    "import sys\n",
    "sys.path.append(\"../\")\n",
    "%load_ext autoreload\n",
    "%autoreload 2\n",
    "from enhancer.options import *\n",
    "from enhancer.training.lr_finder import *\n",
    "from enhancer.losses import WassFeatureLoss\n",
    "opt_path = \"../configs/smallmodel/mse_train.yml\"\n",
    "model = get_generator_from_yml(opt_path)\n"
   ]
  },
  {
   "cell_type": "code",
   "execution_count": null,
   "metadata": {},
   "outputs": [],
   "source": []
  },
  {
   "cell_type": "code",
   "execution_count": 3,
   "metadata": {},
   "outputs": [],
   "source": [
    "criterion =  WassFeatureLoss().to(device)\n",
    "dataloader = get_dataloader_from_yml(opt_path)\n",
    "trainloader = dataloader[\"train_dataloader\"]"
   ]
  },
  {
   "cell_type": "code",
   "execution_count": 4,
   "metadata": {},
   "outputs": [],
   "source": [
    "from enhancer.losses.loss_utils import *"
   ]
  },
  {
   "cell_type": "code",
   "execution_count": 11,
   "metadata": {},
   "outputs": [],
   "source": [
    "blocks = [\n",
    "            i - 2\n",
    "            for i, o in enumerate(children(criterion.m_feat))\n",
    "            if isinstance(o, nn.MaxPool2d)\n",
    "        ]"
   ]
  },
  {
   "cell_type": "code",
   "execution_count": 10,
   "metadata": {},
   "outputs": [
    {
     "data": {
      "text/plain": [
       "([3, 10, 20, 30, 40],\n",
       " [Conv2d(64, 64, kernel_size=(3, 3), stride=(1, 1), padding=(1, 1)),\n",
       "  Conv2d(128, 128, kernel_size=(3, 3), stride=(1, 1), padding=(1, 1)),\n",
       "  Conv2d(256, 256, kernel_size=(3, 3), stride=(1, 1), padding=(1, 1)),\n",
       "  Conv2d(512, 512, kernel_size=(3, 3), stride=(1, 1), padding=(1, 1)),\n",
       "  Conv2d(512, 512, kernel_size=(3, 3), stride=(1, 1), padding=(1, 1))])"
      ]
     },
     "execution_count": 10,
     "metadata": {},
     "output_type": "execute_result"
    }
   ],
   "source": [
    "blocks, [criterion.m_feat[i] for i in blocks]"
   ]
  },
  {
   "cell_type": "code",
   "execution_count": 49,
   "metadata": {},
   "outputs": [],
   "source": [
    "from enhancer.networks.imdn_rtc import *\n",
    "model = SmallEnhancer(upscale=4).to(device)\n"
   ]
  },
  {
   "cell_type": "code",
   "execution_count": null,
   "metadata": {},
   "outputs": [],
   "source": []
  },
  {
   "cell_type": "code",
   "execution_count": 5,
   "metadata": {},
   "outputs": [
    {
     "data": {
      "text/html": [
       "\n",
       "    <div>\n",
       "        <style>\n",
       "            /* Turns off some styling */\n",
       "            progress {\n",
       "                /* gets rid of default border in Firefox and Opera. */\n",
       "                border: none;\n",
       "                /* Needs to be in here for Safari polyfill so background images work as expected. */\n",
       "                background-size: auto;\n",
       "            }\n",
       "            .progress-bar-interrupted, .progress-bar-interrupted::-webkit-progress-bar {\n",
       "                background: #F44336;\n",
       "            }\n",
       "        </style>\n",
       "      <progress value='62' class='' max='100' style='width:300px; height:20px; vertical-align: middle;'></progress>\n",
       "      62.00% [62/100 19:44<12:05]\n",
       "    </div>\n",
       "    "
      ],
      "text/plain": [
       "<IPython.core.display.HTML object>"
      ]
     },
     "metadata": {},
     "output_type": "display_data"
    },
    {
     "name": "stdout",
     "output_type": "stream",
     "text": [
      "Stopping early, the loss has diverged\n",
      "Learning rate search finished. See the graph with {finder_name}.plot()\n"
     ]
    },
    {
     "data": {
      "image/png": "[encoded data removed]",
      "text/plain": [
       "<Figure size 432x288 with 1 Axes>"
      ]
     },
     "metadata": {
      "needs_background": "light"
     },
     "output_type": "display_data"
    },
    {
     "data": {
      "text/plain": [
       "<matplotlib.axes._subplots.AxesSubplot at 0x7f1e370d2320>"
      ]
     },
     "execution_count": 5,
     "metadata": {},
     "output_type": "execute_result"
    }
   ],
   "source": [
    "optimizer = torch.optim.Adam(model.parameters(), lr=1e-7, weight_decay=0)\n",
    "lr_finder = LRFinder(model, optimizer, criterion, device=device)\n",
    "lr_finder.range_test(trainloader, end_lr=100, num_iter=100)\n",
    "lr_finder.plot()"
   ]
  },
  {
   "cell_type": "code",
   "execution_count": null,
   "metadata": {},
   "outputs": [],
   "source": []
  },
  {
   "cell_type": "code",
   "execution_count": 93,
   "metadata": {},
   "outputs": [
    {
     "name": "stdout",
     "output_type": "stream",
     "text": [
      "torch.Size([1, 20, 7, 32])\n",
      "torch.Size([1, 20, 7, 32])\n"
     ]
    },
    {
     "data": {
      "text/plain": [
       "torch.Size([1, 3, 14, 64])"
      ]
     },
     "execution_count": 93,
     "metadata": {},
     "output_type": "execute_result"
    }
   ],
   "source": [
    "model = SmallEnhancer(upscale=2).to(device)\n",
    "model(torch.randn(1,3,7,32).to(device)).shape"
   ]
  },
  {
   "cell_type": "code",
   "execution_count": null,
   "metadata": {},
   "outputs": [],
   "source": []
  },
  {
   "cell_type": "code",
   "execution_count": 4,
   "metadata": {},
   "outputs": [],
   "source": [
    "\n",
    "def overfit_on_single_batch(batched_data, model, criterion, optimizer):\n",
    "    model.train()\n",
    "    mb = progress_bar(range(0, 1000))\n",
    "    for e in mb:\n",
    "        input_image = batched_data[\"lr\"].to(device).float()\n",
    "        target = batched_data[\"hr\"].to(device).float()\n",
    "        optimizer.zero_grad()\n",
    "        outputs = model(input_image)\n",
    "        loss_outputs = criterion(outputs, target)\n",
    "        loss_outputs.backward()\n",
    "        optimizer.step()\n",
    "        print(f\"Finished loop {e}    :     Loss :{loss_outputs.item()}\")\n"
   ]
  },
  {
   "cell_type": "code",
   "execution_count": 20,
   "metadata": {},
   "outputs": [],
   "source": [
    "# device = torch.device(\"cpu\")\n",
    "# model = SmallEnhancer(upscale=2,nf=12,num_modules=1).to(device)\n",
    "# model(torch.randn(1,3,17,32).to(device)).shape"
   ]
  },
  {
   "cell_type": "code",
   "execution_count": null,
   "metadata": {},
   "outputs": [],
   "source": []
  },
  {
   "cell_type": "code",
   "execution_count": 18,
   "metadata": {},
   "outputs": [],
   "source": [
    "criterion = nn.L1Loss()\n",
    "dataloader = get_dataloader_from_yml(opt_path)\n",
    "trainloader = dataloader[\"train_dataloader\"]"
   ]
  },
  {
   "cell_type": "code",
   "execution_count": 19,
   "metadata": {},
   "outputs": [],
   "source": [
    "sample=getsample(trainloader)\n"
   ]
  },
  {
   "cell_type": "code",
   "execution_count": 57,
   "metadata": {},
   "outputs": [],
   "source": [
    "from enhancer.networks.imdn import *"
   ]
  },
  {
   "cell_type": "code",
   "execution_count": null,
   "metadata": {},
   "outputs": [],
   "source": []
  },
  {
   "cell_type": "code",
   "execution_count": 61,
   "metadata": {},
   "outputs": [],
   "source": [
    "source_model = SmallEnhancer(upscale=2,num_modules=6,nf=64).to(device)\n",
    "source_model.load_state_dict(torch.load(\"../checkpoints/small_checkpoint_mse_x2.pt\")[\"generator_state_dict\"])\n",
    "soure_model_weight = source_\n",
    "destination_model = SmallEnhancer(upscale=2,num_modules=6,nf=64).to(device)\n",
    "destination_model_weight= destination_model.state_dict()"
   ]
  },
  {
   "cell_type": "code",
   "execution_count": null,
   "metadata": {},
   "outputs": [],
   "source": []
  }
 ],
 "metadata": {
  "kernelspec": {
   "display_name": "Python 3",
   "language": "python",
   "name": "python3"
  },
  "language_info": {
   "codemirror_mode": {
    "name": "ipython",
    "version": 3
   },
   "file_extension": ".py",
   "mimetype": "text/x-python",
   "name": "python",
   "nbconvert_exporter": "python",
   "pygments_lexer": "ipython3",
   "version": "3.6.8"
  }
 },
 "nbformat": 4,
 "nbformat_minor": 4
}
