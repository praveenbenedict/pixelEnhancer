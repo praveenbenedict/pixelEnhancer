{
 "cells": [
  {
   "cell_type": "code",
   "execution_count": 1,
   "metadata": {},
   "outputs": [],
   "source": [
    "import sys\n",
    "sys.path.append(\"../\")\n",
    "from enhancer import *\n",
    "from enhancer.inference import *\n",
    "from enhancer.utils import *\n",
    "from enhancer.options import *\n",
    "import copy\n",
    "# device = torch.device(\"cpu\")\n",
    "%load_ext autoreload\n",
    "%autoreload 2"
   ]
  },
  {
   "cell_type": "code",
   "execution_count": null,
   "metadata": {},
   "outputs": [],
   "source": [
    "generator = SmallEnhancer(nf=64,num_modules=8,upscale=2).to(device)\n",
    "generator.load_state_dict(torch.load(\"imdn_64_8_checkpoint_mse_x4.pt\")[\"generator_state_dict\"])"
   ]
  },
  {
   "cell_type": "code",
   "execution_count": 2,
   "metadata": {},
   "outputs": [
    {
     "name": "stdout",
     "output_type": "stream",
     "text": [
      "  % Total    % Received % Xferd  Average Speed   Time    Time     Time  Current\n",
      "                                 Dload  Upload   Total   Spent    Left  Speed\n",
      " 31  115M   31 36.6M    0     0  2149k      0  0:00:55  0:00:17  0:00:38 2119k^C\n"
     ]
    }
   ],
   "source": [
    "!curl --header 'Host: download.wetransfer.com' --user-agent 'Mozilla/5.0 (X11; Ubuntu; Linux x86_64; rv:84.0) Gecko/20100101 Firefox/84.0' --header 'Accept: text/html,application/xhtml+xml,application/xml;q=0.9,image/webp,*/*;q=0.8' --header 'Accept-Language: en-US,en;q=0.5' --referer 'https://wetransfer.com/' --cookie '_wt_snowplowid.38f1=e13c69cb-eaff-43d6-80bd-9d2968f25a6a.1602509607.13.1608830612.1608750622.7aef94f7-b0be-48da-81c9-5b9f74f9c478; _awl=2.1602745259.0.4-46221116-79603dd2a11b85c2a014deb41baa0a39-6763652d617369612d6561737431-5f87f3ab-0; sp=b741c701-e552-47fc-a97b-3ac33c68f627; wt_tandc=20190527%3A1; wt_first_visit=1602509611970; _ga=GA1.2.436006442.1602509612; __wtcm=CO7K4-MO7K4-MPnACAENAxCAAAAAAAAAAAAAAAAAAAAA.JGaQEQAGAAygCIAIoATgA3AB-AEwAQgAiwBHACkAFZALqAfwBeYDBJGUkZoA; wt_privacy=%7B%22v%22%3A%223%3A20190527%22%2C%22f%22%3A1%2C%22a%22%3A1%2C%22t%22%3A0%7D; _gcl_au=1.1.363136652.1602509704; _fbp=fb.1.1602509707165.1149429957; wt_ttype=1; wt_to=%2Cvinod.looser00%40gmail.com%2Cvinotharjun%40hotmail.com%2Cjbapraveen%40hotmail.com; wt_from=vinod.looser00%40gmail.com; wt_sent=6; _admrla=2.; wt_downloaded=6; wt_takeover=12%2F24%2F2020%2C4; wt_wp=1; _gid=GA1.2.1252110540.1608748549; _wt_session=eCtqOVZNSC9LazduM0t2YUU5cEI5bytxekhQVmc2aWF6dDNsWFJoV0VJaHQrQk93V2FvSzBoL2JzcFdIVkR4SzhuN3dESDQxOWNiK2RzMGpsSmVGTzQxMVNuUWtGNWFXa2RnREhONTJIT3dkcWNNWStOckpHTEJvcUpDSzR4QWtoM25lNHVLNXArMjMreWVqdHFXTXZBPT0tLUhEYUs5U0R1bDR1TFFSZjQ5RGJhR0E9PQ%3D%3D--793344fb5878e26e05c833d722874fa7195efe4e; _wt_snowplowses.38f1=*' --header 'Upgrade-Insecure-Requests: 1' 'https://download.wetransfer.com//eu2/e97c584173c7ffa34597dbb2d6c57d1620201224171423/96a1d05a1d1adeb2e7e5a95b606cfae5b7c2b8a7/Trevor%20Noah%20-%20Chris%20Christie%20-%20720p.mp4?cf=y&token=eyJhbGciOiJIUzI1NiJ9.eyJleHAiOjE2MDg4MzEyMTgsInVuaXF1ZSI6ImU5N2M1ODQxNzNjN2ZmYTM0NTk3ZGJiMmQ2YzU3ZDE2MjAyMDEyMjQxNzE0MjMiLCJmaWxlbmFtZSI6IlRyZXZvciBOb2FoIC0gQ2hyaXMgQ2hyaXN0aWUgLSA3MjBwLm1wNCIsIndheWJpbGxfdXJsIjoiaHR0cDovL3Byb2R1Y3Rpb24uYmFja2VuZC5zZXJ2aWNlLmV1LXdlc3QtMS53dDo5MjkyL3dheWJpbGwvdjEvc2Fya2FyLzBlY2IzNWIzZDY4Y2MyMzI3ZDZhNWI2MzUzMzNiN2E1OTYyMTdkOWY0MDA2MjAyNTBmNTcxMjA5Mjg3MmRlYjcxMzU2YTQzMmUwMjdkZjgxY2MyOTc0IiwiZmluZ2VycHJpbnQiOiI5NmExZDA1YTFkMWFkZWIyZTdlNWE5NWI2MDZjZmFlNWI3YzJiOGE3IiwiY2FsbGJhY2siOiJ7XCJmb3JtZGF0YVwiOntcImFjdGlvblwiOlwiaHR0cDovL3Byb2R1Y3Rpb24uZnJvbnRlbmQuc2VydmljZS5ldS13ZXN0LTEud3Q6MzAwMC93ZWJob29rcy9iYWNrZW5kXCJ9LFwiZm9ybVwiOntcInRyYW5zZmVyX2lkXCI6XCJlOTdjNTg0MTczYzdmZmEzNDU5N2RiYjJkNmM1N2QxNjIwMjAxMjI0MTcxNDIzXCIsXCJkb3dubG9hZF9pZFwiOjExMDg2MzAzODU2fX0ifQ.rc6EUq-8ppJBnf9oPqakfLSYs-ho8XIjCHdHqiOkv_A' --output 'Trevor%20Noah%20-%20Chris%20Christie%20-%20720p.mp4'"
   ]
  }
 ],
 "metadata": {
  "kernelspec": {
   "display_name": "Python 3",
   "language": "python",
   "name": "python3"
  },
  "language_info": {
   "codemirror_mode": {
    "name": "ipython",
    "version": 3
   },
   "file_extension": ".py",
   "mimetype": "text/x-python",
   "name": "python",
   "nbconvert_exporter": "python",
   "pygments_lexer": "ipython3",
   "version": "3.6.8"
  }
 },
 "nbformat": 4,
 "nbformat_minor": 4
}
